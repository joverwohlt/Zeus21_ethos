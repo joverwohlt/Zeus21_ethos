{
 "cells": [
  {
   "cell_type": "code",
   "execution_count": null,
   "metadata": {},
   "outputs": [],
   "source": [
    "import zeus21\n",
    "import numpy as np\n",
    "\n",
    "#set up the CLASS cosmology\n",
    "from classy import Class\n",
    "ClassCosmo = Class()\n",
    "ClassCosmo.compute()\n",
    "\n",
    "import pickle"
   ]
  },
  {
   "cell_type": "code",
   "execution_count": null,
   "metadata": {},
   "outputs": [],
   "source": [
    "\n",
    "CosmoParams_input = zeus21.Cosmo_Parameters_Input()\n",
    "ClassyCosmo = zeus21.runclass(CosmoParams_input)\n"
   ]
  },
  {
   "cell_type": "code",
   "execution_count": null,
   "metadata": {},
   "outputs": [],
   "source": [
    "h_peak_ethos = np.linspace(0.25,1,16)\n",
    "h_peak = np.array([0,0.2])\n",
    "h_peak_float = np.concatenate((h_peak,h_peak_ethos), axis=None)\n",
    "h_peak = np.round(h_peak_float,2)\n",
    "k_peak = np.linspace(30,300,271)"
   ]
  },
  {
   "cell_type": "code",
   "execution_count": null,
   "metadata": {},
   "outputs": [],
   "source": [
    "hmf_dict = {} #hpeak 0-1 in 0.05 steps - kpeak 30-300\n",
    "\n",
    "for i in range(len(h_peak)):\n",
    "    for j in range(len(k_peak)):\n",
    "        parcos = zeus21.Cosmo_Parameters(CosmoParams_input,ClassyCosmo, h_peak=h_peak[i], k_peak=k_peak[j], Flag_ETHOS=True)\n",
    "        y = zeus21.HMF_interpolator(parcos,ClassyCosmo)\n",
    "        hmf_dict.update({(h_peak[i],k_peak[j]):y})\n",
    "    \n",
    "    print(h_peak[i],k_peak[j])"
   ]
  },
  {
   "cell_type": "code",
   "execution_count": null,
   "metadata": {},
   "outputs": [],
   "source": [
    "with open('hmf_dict.pickle','wb+') as f:\n",
    "    pickle.dump(hmf_dict, f)"
   ]
  },
  {
   "cell_type": "code",
   "execution_count": null,
   "metadata": {},
   "outputs": [],
   "source": [
    "with open('hmf_dict.pickle', 'rb') as f:\n",
    "    hmf_dict = pickle.load(f)"
   ]
  }
 ],
 "metadata": {
  "kernelspec": {
   "display_name": "21cm",
   "language": "python",
   "name": "python3"
  },
  "language_info": {
   "codemirror_mode": {
    "name": "ipython",
    "version": 3
   },
   "file_extension": ".py",
   "mimetype": "text/x-python",
   "name": "python",
   "nbconvert_exporter": "python",
   "pygments_lexer": "ipython3",
   "version": "3.10.10"
  },
  "orig_nbformat": 4
 },
 "nbformat": 4,
 "nbformat_minor": 2
}
