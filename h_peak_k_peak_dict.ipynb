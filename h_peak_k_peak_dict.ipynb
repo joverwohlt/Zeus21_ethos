{
 "cells": [
  {
   "cell_type": "code",
   "execution_count": 1,
   "metadata": {},
   "outputs": [],
   "source": [
    "import zeus21\n",
    "import numpy as np\n",
    "\n",
    "#set up the CLASS cosmology\n",
    "from classy import Class\n",
    "ClassCosmo = Class()\n",
    "ClassCosmo.compute()\n",
    "\n",
    "import pickle"
   ]
  },
  {
   "cell_type": "code",
   "execution_count": 2,
   "metadata": {},
   "outputs": [],
   "source": [
    "\n",
    "CosmoParams_input = zeus21.Cosmo_Parameters_Input()\n",
    "ClassyCosmo = zeus21.runclass(CosmoParams_input)\n"
   ]
  },
  {
   "cell_type": "code",
   "execution_count": 3,
   "metadata": {},
   "outputs": [],
   "source": [
    "h_peak_ethos = np.linspace(0.25,1,16)\n",
    "h_peak = np.array([0,0.2])\n",
    "h_peak_float = np.concatenate((h_peak,h_peak_ethos), axis=None)\n",
    "h_peak = np.round(h_peak_float,2)\n",
    "k_peak = np.linspace(30,300,271)"
   ]
  },
  {
   "cell_type": "code",
   "execution_count": 4,
   "metadata": {},
   "outputs": [
    {
     "ename": "KeyboardInterrupt",
     "evalue": "",
     "output_type": "error",
     "traceback": [
      "\u001b[0;31m---------------------------------------------------------------------------\u001b[0m",
      "\u001b[0;31mKeyboardInterrupt\u001b[0m                         Traceback (most recent call last)",
      "Cell \u001b[0;32mIn[4], line 6\u001b[0m\n\u001b[1;32m      4\u001b[0m \u001b[39mfor\u001b[39;00m j \u001b[39min\u001b[39;00m \u001b[39mrange\u001b[39m(\u001b[39mlen\u001b[39m(k_peak)):\n\u001b[1;32m      5\u001b[0m     parcos \u001b[39m=\u001b[39m zeus21\u001b[39m.\u001b[39mCosmo_Parameters(CosmoParams_input,ClassyCosmo, h_peak\u001b[39m=\u001b[39mh_peak[i], k_peak\u001b[39m=\u001b[39mk_peak[j], Flag_ETHOS\u001b[39m=\u001b[39m\u001b[39mTrue\u001b[39;00m)\n\u001b[0;32m----> 6\u001b[0m     y \u001b[39m=\u001b[39m zeus21\u001b[39m.\u001b[39;49mHMF_interpolator(parcos,ClassyCosmo)\n\u001b[1;32m      7\u001b[0m     hmf_dict\u001b[39m.\u001b[39mupdate({(h_peak[i],k_peak[j]):y})\n\u001b[1;32m      9\u001b[0m \u001b[39mprint\u001b[39m(h_peak[i],k_peak[j])\n",
      "File \u001b[0;32m~/Zeus21_ethos/zeus21/cosmology.py:417\u001b[0m, in \u001b[0;36mHMF_interpolator.__init__\u001b[0;34m(self, Cosmo_Parameters, ClassCosmo)\u001b[0m\n\u001b[1;32m    413\u001b[0m \u001b[39mself\u001b[39m\u001b[39m.\u001b[39mdsigmadMintlog \u001b[39m=\u001b[39m RegularGridInterpolator(\u001b[39mself\u001b[39m\u001b[39m.\u001b[39mfitMztab, \u001b[39mself\u001b[39m\u001b[39m.\u001b[39mdsigmadMMhtab)\n\u001b[1;32m    416\u001b[0m \u001b[39m#also build an interpolator for sigma(R) of the R we integrate over (for CD and EoR). These R >> Rhalo typically, so need new table.\u001b[39;00m\n\u001b[0;32m--> 417\u001b[0m \u001b[39mself\u001b[39m\u001b[39m.\u001b[39msigmaofRtab \u001b[39m=\u001b[39m np\u001b[39m.\u001b[39marray([[ClassCosmo\u001b[39m.\u001b[39msigma(RR,zz) \u001b[39mfor\u001b[39;00m zz \u001b[39min\u001b[39;00m \u001b[39mself\u001b[39m\u001b[39m.\u001b[39mzHMFtab] \u001b[39mfor\u001b[39;00m RR \u001b[39min\u001b[39;00m Cosmo_Parameters\u001b[39m.\u001b[39m_Rtabsmoo])\n\u001b[1;32m    418\u001b[0m \u001b[39mself\u001b[39m\u001b[39m.\u001b[39mfitRztab \u001b[39m=\u001b[39m [np\u001b[39m.\u001b[39mlog(Cosmo_Parameters\u001b[39m.\u001b[39m_Rtabsmoo), \u001b[39mself\u001b[39m\u001b[39m.\u001b[39mzHMFtab]\n\u001b[1;32m    419\u001b[0m \u001b[39mself\u001b[39m\u001b[39m.\u001b[39msigmaRintlog \u001b[39m=\u001b[39m RegularGridInterpolator(\u001b[39mself\u001b[39m\u001b[39m.\u001b[39mfitRztab, \u001b[39mself\u001b[39m\u001b[39m.\u001b[39msigmaofRtab)\n",
      "File \u001b[0;32m~/Zeus21_ethos/zeus21/cosmology.py:417\u001b[0m, in \u001b[0;36m<listcomp>\u001b[0;34m(.0)\u001b[0m\n\u001b[1;32m    413\u001b[0m \u001b[39mself\u001b[39m\u001b[39m.\u001b[39mdsigmadMintlog \u001b[39m=\u001b[39m RegularGridInterpolator(\u001b[39mself\u001b[39m\u001b[39m.\u001b[39mfitMztab, \u001b[39mself\u001b[39m\u001b[39m.\u001b[39mdsigmadMMhtab)\n\u001b[1;32m    416\u001b[0m \u001b[39m#also build an interpolator for sigma(R) of the R we integrate over (for CD and EoR). These R >> Rhalo typically, so need new table.\u001b[39;00m\n\u001b[0;32m--> 417\u001b[0m \u001b[39mself\u001b[39m\u001b[39m.\u001b[39msigmaofRtab \u001b[39m=\u001b[39m np\u001b[39m.\u001b[39marray([[ClassCosmo\u001b[39m.\u001b[39msigma(RR,zz) \u001b[39mfor\u001b[39;00m zz \u001b[39min\u001b[39;00m \u001b[39mself\u001b[39m\u001b[39m.\u001b[39mzHMFtab] \u001b[39mfor\u001b[39;00m RR \u001b[39min\u001b[39;00m Cosmo_Parameters\u001b[39m.\u001b[39m_Rtabsmoo])\n\u001b[1;32m    418\u001b[0m \u001b[39mself\u001b[39m\u001b[39m.\u001b[39mfitRztab \u001b[39m=\u001b[39m [np\u001b[39m.\u001b[39mlog(Cosmo_Parameters\u001b[39m.\u001b[39m_Rtabsmoo), \u001b[39mself\u001b[39m\u001b[39m.\u001b[39mzHMFtab]\n\u001b[1;32m    419\u001b[0m \u001b[39mself\u001b[39m\u001b[39m.\u001b[39msigmaRintlog \u001b[39m=\u001b[39m RegularGridInterpolator(\u001b[39mself\u001b[39m\u001b[39m.\u001b[39mfitRztab, \u001b[39mself\u001b[39m\u001b[39m.\u001b[39msigmaofRtab)\n",
      "File \u001b[0;32m~/Zeus21_ethos/zeus21/cosmology.py:417\u001b[0m, in \u001b[0;36m<listcomp>\u001b[0;34m(.0)\u001b[0m\n\u001b[1;32m    413\u001b[0m \u001b[39mself\u001b[39m\u001b[39m.\u001b[39mdsigmadMintlog \u001b[39m=\u001b[39m RegularGridInterpolator(\u001b[39mself\u001b[39m\u001b[39m.\u001b[39mfitMztab, \u001b[39mself\u001b[39m\u001b[39m.\u001b[39mdsigmadMMhtab)\n\u001b[1;32m    416\u001b[0m \u001b[39m#also build an interpolator for sigma(R) of the R we integrate over (for CD and EoR). These R >> Rhalo typically, so need new table.\u001b[39;00m\n\u001b[0;32m--> 417\u001b[0m \u001b[39mself\u001b[39m\u001b[39m.\u001b[39msigmaofRtab \u001b[39m=\u001b[39m np\u001b[39m.\u001b[39marray([[ClassCosmo\u001b[39m.\u001b[39;49msigma(RR,zz) \u001b[39mfor\u001b[39;00m zz \u001b[39min\u001b[39;00m \u001b[39mself\u001b[39m\u001b[39m.\u001b[39mzHMFtab] \u001b[39mfor\u001b[39;00m RR \u001b[39min\u001b[39;00m Cosmo_Parameters\u001b[39m.\u001b[39m_Rtabsmoo])\n\u001b[1;32m    418\u001b[0m \u001b[39mself\u001b[39m\u001b[39m.\u001b[39mfitRztab \u001b[39m=\u001b[39m [np\u001b[39m.\u001b[39mlog(Cosmo_Parameters\u001b[39m.\u001b[39m_Rtabsmoo), \u001b[39mself\u001b[39m\u001b[39m.\u001b[39mzHMFtab]\n\u001b[1;32m    419\u001b[0m \u001b[39mself\u001b[39m\u001b[39m.\u001b[39msigmaRintlog \u001b[39m=\u001b[39m RegularGridInterpolator(\u001b[39mself\u001b[39m\u001b[39m.\u001b[39mfitRztab, \u001b[39mself\u001b[39m\u001b[39m.\u001b[39msigmaofRtab)\n",
      "\u001b[0;31mKeyboardInterrupt\u001b[0m: "
     ]
    }
   ],
   "source": [
    "hmf_dict = {} #hpeak 0-1 in 0.05 steps - kpeak 30-300\n",
    "\n",
    "for i in range(len(h_peak)):\n",
    "    for j in range(len(k_peak)):\n",
    "        parcos = zeus21.Cosmo_Parameters(CosmoParams_input,ClassyCosmo, h_peak=h_peak[i], k_peak=k_peak[j], Flag_ETHOS=True)\n",
    "        y = zeus21.HMF_interpolator(parcos,ClassyCosmo)\n",
    "        hmf_dict.update({(h_peak[i],k_peak[j]):y})\n",
    "    \n",
    "    print(h_peak[i],k_peak[j])"
   ]
  },
  {
   "cell_type": "code",
   "execution_count": 5,
   "metadata": {},
   "outputs": [],
   "source": [
    "with open('hmf_dict.pickle','wb+') as f:\n",
    "    pickle.dump(hmf_dict, f)"
   ]
  },
  {
   "cell_type": "code",
   "execution_count": 6,
   "metadata": {},
   "outputs": [],
   "source": [
    "with open('hmf_dict.pickle', 'rb') as f:\n",
    "    hmf_dict = pickle.load(f)"
   ]
  },
  {
   "attachments": {},
   "cell_type": "markdown",
   "metadata": {},
   "source": []
  },
  {
   "cell_type": "code",
   "execution_count": null,
   "metadata": {},
   "outputs": [],
   "source": []
  }
 ],
 "metadata": {
  "kernelspec": {
   "display_name": "21cm",
   "language": "python",
   "name": "python3"
  },
  "language_info": {
   "codemirror_mode": {
    "name": "ipython",
    "version": 3
   },
   "file_extension": ".py",
   "mimetype": "text/x-python",
   "name": "python",
   "nbconvert_exporter": "python",
   "pygments_lexer": "ipython3",
   "version": "3.10.10"
  },
  "orig_nbformat": 4
 },
 "nbformat": 4,
 "nbformat_minor": 2
}
